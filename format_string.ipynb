{
 "cells": [
  {
   "cell_type": "code",
   "execution_count": 1,
   "metadata": {},
   "outputs": [],
   "source": [
    "# format_string:"
   ]
  },
  {
   "cell_type": "code",
   "execution_count": 2,
   "metadata": {},
   "outputs": [
    {
     "name": "stdout",
     "output_type": "stream",
     "text": [
      "My name is krishna and I am 27\n"
     ]
    }
   ],
   "source": [
    "age=27\n",
    "name=\"krishna\"\n",
    "\n",
    "print(\"My name is krishna and I am 27\")"
   ]
  },
  {
   "cell_type": "code",
   "execution_count": 3,
   "metadata": {},
   "outputs": [
    {
     "name": "stdout",
     "output_type": "stream",
     "text": [
      "My name is {name} and I am {age}\n"
     ]
    }
   ],
   "source": [
    "age=27\n",
    "name=\"krishna\"\n",
    "\n",
    "print(\"My name is {name} and I am {age}\")"
   ]
  },
  {
   "cell_type": "code",
   "execution_count": 4,
   "metadata": {},
   "outputs": [
    {
     "name": "stdout",
     "output_type": "stream",
     "text": [
      "My name is krishna and I am 27\n"
     ]
    }
   ],
   "source": [
    "age=27\n",
    "name=\"krishna\"\n",
    "\n",
    "print(f\"My name is {name} and I am {age}\")"
   ]
  },
  {
   "cell_type": "code",
   "execution_count": 5,
   "metadata": {},
   "outputs": [
    {
     "name": "stdout",
     "output_type": "stream",
     "text": [
      "My name is krishna and I am 28\n"
     ]
    }
   ],
   "source": [
    "age=28\n",
    "name=\"krishna\"\n",
    "\n",
    "print(f\"My name is {name} and I am {age}\")"
   ]
  },
  {
   "cell_type": "code",
   "execution_count": 6,
   "metadata": {},
   "outputs": [
    {
     "name": "stdout",
     "output_type": "stream",
     "text": [
      "My name is krishna and I am 28\n"
     ]
    }
   ],
   "source": [
    "age=28\n",
    "name=\"krishna\"\n",
    "\n",
    "print(F\"My name is {name} and I am {age}\")"
   ]
  },
  {
   "cell_type": "code",
   "execution_count": 9,
   "metadata": {},
   "outputs": [
    {
     "name": "stdout",
     "output_type": "stream",
     "text": [
      "My name is krishna and I am 28\n"
     ]
    }
   ],
   "source": [
    "#.format\n",
    "age=28\n",
    "name=\"krishna\"\n",
    "\n",
    "print(\"My name is {} and I am {}\".format(name,age))"
   ]
  },
  {
   "cell_type": "code",
   "execution_count": null,
   "metadata": {},
   "outputs": [],
   "source": [
    "hacking: SQL injection hacking"
   ]
  },
  {
   "cell_type": "code",
   "execution_count": 10,
   "metadata": {},
   "outputs": [
    {
     "name": "stdout",
     "output_type": "stream",
     "text": [
      "My name is krishna and I am 28\n"
     ]
    }
   ],
   "source": [
    "#.format\n",
    "age=28\n",
    "name=\"krishna\"\n",
    "\n",
    "print(\"My name is {0} and I am {1}\".format(name,age))"
   ]
  },
  {
   "cell_type": "code",
   "execution_count": 11,
   "metadata": {},
   "outputs": [
    {
     "name": "stdout",
     "output_type": "stream",
     "text": [
      "My name is 28 and I am krishna\n"
     ]
    }
   ],
   "source": [
    "#.format\n",
    "age=28\n",
    "name=\"krishna\"\n",
    "\n",
    "print(\"My name is {1} and I am {0}\".format(name,age))"
   ]
  },
  {
   "cell_type": "code",
   "execution_count": 13,
   "metadata": {},
   "outputs": [
    {
     "name": "stdout",
     "output_type": "stream",
     "text": [
      "My name is krishna and I am 28\n"
     ]
    }
   ],
   "source": [
    "#.format\n",
    "age=28\n",
    "name=\"krishna\"\n",
    "\n",
    "print(\"My name is {1} and I am {0}\".format(age,name))"
   ]
  },
  {
   "cell_type": "code",
   "execution_count": 24,
   "metadata": {},
   "outputs": [
    {
     "ename": "SyntaxError",
     "evalue": "invalid decimal literal (1402505552.py, line 4)",
     "output_type": "error",
     "traceback": [
      "\u001b[1;36m  Cell \u001b[1;32mIn[24], line 4\u001b[1;36m\u001b[0m\n\u001b[1;33m    print(f\"My name is {name} and I am {2f}\")\u001b[0m\n\u001b[1;37m     ^\u001b[0m\n\u001b[1;31mSyntaxError\u001b[0m\u001b[1;31m:\u001b[0m invalid decimal literal\n"
     ]
    }
   ],
   "source": [
    "age=28.45454\n",
    "name=\"krishna\"\n",
    "\n",
    "print(f\"My name is {name} and I am {2f}\")"
   ]
  },
  {
   "cell_type": "code",
   "execution_count": null,
   "metadata": {},
   "outputs": [],
   "source": []
  }
 ],
 "metadata": {
  "kernelspec": {
   "display_name": "Python 3",
   "language": "python",
   "name": "python3"
  },
  "language_info": {
   "codemirror_mode": {
    "name": "ipython",
    "version": 3
   },
   "file_extension": ".py",
   "mimetype": "text/x-python",
   "name": "python",
   "nbconvert_exporter": "python",
   "pygments_lexer": "ipython3",
   "version": "3.11.3"
  },
  "orig_nbformat": 4
 },
 "nbformat": 4,
 "nbformat_minor": 2
}
